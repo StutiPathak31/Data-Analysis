{
 "cells": [
  {
   "cell_type": "markdown",
   "metadata": {},
   "source": [
    "# Analysis of Red Wine Dataset"
   ]
  },
  {
   "cell_type": "markdown",
   "metadata": {},
   "source": [
    "### Importing required modules"
   ]
  },
  {
   "cell_type": "code",
   "execution_count": 1,
   "metadata": {},
   "outputs": [],
   "source": [
    "import numpy as np\n",
    "import matplotlib.pyplot as plt"
   ]
  },
  {
   "cell_type": "markdown",
   "metadata": {},
   "source": [
    "### Function that uses numpy method to read data from CSV file and convert it into 2D ndarray"
   ]
  },
  {
   "cell_type": "code",
   "execution_count": 2,
   "metadata": {},
   "outputs": [],
   "source": [
    "def read_from_file(): \n",
    "    wines=np.genfromtxt('numpy_wine.csv',delimiter=\";\")\n",
    "    wines=np.array(wines[1:]) \n",
    "    #print(data.shape)\n",
    "    #print(type(data))\n",
    "    return wines"
   ]
  },
  {
   "cell_type": "markdown",
   "metadata": {},
   "source": [
    "### Function that calculates combined acid level by adding 'Fixed Acidity', 'Volatile Acidity', 'Citric Acid' i.e. column 1,2 and 3 respectively and sum of values is returned as 1D numpy ndarray"
   ]
  },
  {
   "cell_type": "code",
   "execution_count": 3,
   "metadata": {},
   "outputs": [],
   "source": [
    "def get_combined_acidity(data):\n",
    "    combined_acid=data[:,0]+data[:,1]+data[:,2]\n",
    "    return combined_acid\n"
   ]
  },
  {
   "cell_type": "markdown",
   "metadata": {},
   "source": [
    "### Function that returns high quality wines as subset of wines of quality >= high_quality_baseline. Last column of the dataset is quality(1-10). High quality wines are returned as 1D numpy ndarray."
   ]
  },
  {
   "cell_type": "code",
   "execution_count": 4,
   "metadata": {},
   "outputs": [],
   "source": [
    "def get_high_quality_wines(data,high_quality_baseline=8):\n",
    "    high_quality_wines=[]\n",
    "    for row in data:\n",
    "        if row[11]>=high_quality_baseline:\n",
    "            high_quality_wines.append(row)\n",
    "    \n",
    "    high_quality_wines=np.array(high_quality_wines)\n",
    "    return high_quality_wines"
   ]
  },
  {
   "cell_type": "markdown",
   "metadata": {},
   "source": [
    "### Function that calculates the standard deviation of each column and return index and maximum standard deviation of the column as tuple"
   ]
  },
  {
   "cell_type": "code",
   "execution_count": 5,
   "metadata": {},
   "outputs": [],
   "source": [
    "def max_std_dev(data):\n",
    "    index=0\n",
    "    max_std=0\n",
    "    for col in range(12):\n",
    "        column=data[:,col]\n",
    "        stddev=np.ndarray.std(column)\n",
    "        if max_std<stddev:\n",
    "            max_std=stddev\n",
    "            index=col\n",
    "    return (index,max_std)"
   ]
  },
  {
   "cell_type": "markdown",
   "metadata": {},
   "source": [
    "### Function that calculates the standard deviation of each column and return index and minimum standard deviation of the column as tuple"
   ]
  },
  {
   "cell_type": "code",
   "execution_count": 6,
   "metadata": {},
   "outputs": [],
   "source": [
    "def min_std_dev(data):\n",
    "    index=0\n",
    "    min_std=100\n",
    "    for col in range(12):\n",
    "        column=data[:,col]\n",
    "        stddev=np.ndarray.std(column)\n",
    "        if min_std>stddev:\n",
    "            min_std=stddev\n",
    "            index=col\n",
    "    return (index,min_std)"
   ]
  },
  {
   "cell_type": "markdown",
   "metadata": {},
   "source": [
    "### Function that plots the standard deviation of each column and maximum and minimum standard deviation"
   ]
  },
  {
   "cell_type": "code",
   "execution_count": 7,
   "metadata": {},
   "outputs": [],
   "source": [
    "def make_plots(data):\n",
    "    std=[]\n",
    "    for col in range(12):\n",
    "        column=data[:,col]\n",
    "        stddev=np.ndarray.std(column)\n",
    "        std.append(stddev)\n",
    "    col=np.arange(0,12)\n",
    "    std=np.array(std)\n",
    "    \n",
    "    max_ind,max_std=max_std_dev(data)\n",
    "    min_ind,min_std=min_std_dev(data)\n",
    "    \n",
    "    fig=plt.figure(figsize=(10, 10 ))\n",
    "    fig.add_subplot(2,2 , 1) \n",
    "    plt.plot(std, '-ro',markevery=[max_ind],label='MAXIMUM')\n",
    "    plt.legend(loc='best')\n",
    "    \n",
    "    fig.add_subplot(2,2 , 2)\n",
    "    plt.plot(std, '-gD',markevery=[min_ind],label='MINIMUM')\n",
    "    plt.legend(loc='upper right', shadow=True)\n",
    "    plt.savefig('numpy_wine_min_max_std.png')"
   ]
  },
  {
   "cell_type": "markdown",
   "metadata": {},
   "source": [
    "### Main function that merges all the above functionality"
   ]
  },
  {
   "cell_type": "code",
   "execution_count": 8,
   "metadata": {},
   "outputs": [],
   "source": [
    "def main():\n",
    "    colname=[\"fixed acidity\",\"volatile acidity\",\"citric acid\",\"residual sugar\",\"chlorides\",\"free sulfur dioxide\",\"total sulfur dioxide\",\"density\",\"pH\",\"sulphates\",\"alcohol\",\"quality\"]\n",
    "    data=read_from_file()\n",
    "    combined_acid_level=get_combined_acidity(data)\n",
    "    print(\"Minimum combined acidity is: \",np.amin(combined_acid_level))\n",
    "    print(\"Maximum combined acidity is: \",np.amax(combined_acid_level))\n",
    "    print()\n",
    "    high_quality_baseline=int(input(\"Enter baseline for quality(1-10): \"))\n",
    "    high_quality_wines=get_high_quality_wines(data,high_quality_baseline)\n",
    "    print(\"Number of wines with quality >=\",high_quality_baseline,\":\",high_quality_wines.shape[0])\n",
    "    print()\n",
    "    max_ind,max_std=max_std_dev(data)\n",
    "    min_ind,min_std=min_std_dev(data)\n",
    "    print(\"The column with largest standard deviation is:\",colname[max_ind])\n",
    "    print(\"The standard deviation for this column is:\",max_std)\n",
    "    print()\n",
    "    print(\"The column for smallest standard deviation is:\",colname[min_ind])\n",
    "    print(\"The standard deviation is:\",min_std)\n",
    "    make_plots(data)\n",
    "    "
   ]
  },
  {
   "cell_type": "code",
   "execution_count": 9,
   "metadata": {},
   "outputs": [
    {
     "name": "stdout",
     "output_type": "stream",
     "text": [
      "Minimum combined acidity is:  5.27\n",
      "Maximum combined acidity is:  17.045\n",
      "\n",
      "Enter baseline for quality(1-10): 7\n",
      "Number of wines with quality >= 7 : 217\n",
      "\n",
      "The column with largest standard deviation is: total sulfur dioxide\n",
      "The standard deviation for this column is: 32.88503665178374\n",
      "\n",
      "The column for smallest standard deviation is: density\n",
      "The standard deviation is: 0.0018867437008323914\n"
     ]
    },
    {
     "data": {
      "image/png": "[encoded data removed]",
      "text/plain": [
       "<matplotlib.figure.Figure at 0x1e4e89bad68>"
      ]
     },
     "metadata": {},
     "output_type": "display_data"
    }
   ],
   "source": [
    "main()"
   ]
  },
  {
   "cell_type": "code",
   "execution_count": null,
   "metadata": {},
   "outputs": [],
   "source": []
  }
 ],
 "metadata": {
  "kernelspec": {
   "display_name": "Python 3",
   "language": "python",
   "name": "python3"
  },
  "language_info": {
   "codemirror_mode": {
    "name": "ipython",
    "version": 3
   },
   "file_extension": ".py",
   "mimetype": "text/x-python",
   "name": "python",
   "nbconvert_exporter": "python",
   "pygments_lexer": "ipython3",
   "version": "3.6.4"
  }
 },
 "nbformat": 4,
 "nbformat_minor": 2
}
